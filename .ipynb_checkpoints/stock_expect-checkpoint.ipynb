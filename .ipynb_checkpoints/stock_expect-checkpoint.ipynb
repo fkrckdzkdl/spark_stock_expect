{
 "cells": [
  {
   "cell_type": "code",
   "execution_count": 1,
   "id": "6996706c-7639-4dc7-993b-512c67297935",
   "metadata": {},
   "outputs": [
    {
     "name": "stdout",
     "output_type": "stream",
     "text": [
      "[*********************100%%**********************]  1 of 1 completed\n"
     ]
    }
   ],
   "source": [
    "# 원하는 주식 csv 파일로 로컬에 저장\n",
    "import yfinance as yf\n",
    "df = yf.download('005930.KS','2023-01-01','2023-08-25')\n",
    "df.to_csv('삼성전자.csv')"
   ]
  },
  {
   "cell_type": "code",
   "execution_count": 2,
   "id": "8d406902-a42b-4c6e-9724-0a3b02142279",
   "metadata": {},
   "outputs": [],
   "source": [
    "import findspark\n",
    "findspark.init()"
   ]
  },
  {
   "cell_type": "code",
   "execution_count": 3,
   "id": "86ee47e7-c4b2-4d36-92af-cc65402023fd",
   "metadata": {},
   "outputs": [],
   "source": [
    "from pyspark.sql import (\n",
    "    Row,\n",
    "    SparkSession)\n",
    "\n",
    "from pyspark.sql.functions import col, asc, desc"
   ]
  },
  {
   "cell_type": "code",
   "execution_count": 4,
   "id": "036c2b28-893f-4a42-b023-9450111f0588",
   "metadata": {},
   "outputs": [],
   "source": [
    "\n",
    "# Create SparkSession \n",
    "spark = SparkSession.builder \\\n",
    "      .master(\"local[1]\") \\\n",
    "      .appName(\"SparkByExamples.com\") \\\n",
    "      .getOrCreate() "
   ]
  },
  {
   "cell_type": "code",
   "execution_count": 6,
   "id": "5a124f12-0694-4e36-84bf-391ff81680fe",
   "metadata": {},
   "outputs": [],
   "source": [
    "csv_file_path = \"삼성전자.csv\"\n",
    "data = spark.read.option(\"header\",\"true\") \\\n",
    "    .option(\"inferSchema\",\"true\") \\\n",
    "    .csv(csv_file_path)"
   ]
  },
  {
   "cell_type": "code",
   "execution_count": 15,
   "id": "d42a4155-15bd-4227-b0c2-c3f5687a2daa",
   "metadata": {},
   "outputs": [
    {
     "name": "stdout",
     "output_type": "stream",
     "text": [
      "+----------+-------+-------+-------+-------+---------+--------+\n",
      "|      Date|   Open|   High|    Low|  Close|Adj Close|  Volume|\n",
      "+----------+-------+-------+-------+-------+---------+--------+\n",
      "|2023-08-02|70700.0|71000.0|69800.0|69900.0|  69900.0|13835020|\n",
      "|2023-08-03|69900.0|70200.0|68500.0|68800.0|  68800.0|20087090|\n",
      "|2023-08-04|68800.0|69100.0|68200.0|68300.0|  68300.0|12360193|\n",
      "|2023-08-07|67700.0|69200.0|67600.0|68500.0|  68500.0|10968505|\n",
      "|2023-08-08|69000.0|69100.0|67400.0|67600.0|  67600.0|14664709|\n",
      "|2023-08-09|68000.0|69600.0|67900.0|68900.0|  68900.0|17259673|\n",
      "|2023-08-10|68300.0|68500.0|67800.0|68000.0|  68000.0|10227311|\n",
      "|2023-08-11|68400.0|68800.0|67500.0|67500.0|  67500.0| 9781038|\n",
      "|2023-08-14|67500.0|67900.0|66900.0|67300.0|  67300.0| 9352343|\n",
      "|2023-08-16|66700.0|67100.0|66300.0|67000.0|  67000.0|13174578|\n",
      "|2023-08-17|66300.0|66800.0|66000.0|66700.0|  66700.0|10778652|\n",
      "|2023-08-18|66000.0|66700.0|65800.0|66300.0|  66300.0|11745006|\n",
      "|2023-08-21|66600.0|67100.0|66300.0|66600.0|  66600.0| 9720067|\n",
      "|2023-08-22|67200.0|67700.0|66300.0|66600.0|  66600.0|10500242|\n",
      "|2023-08-23|66700.0|67100.0|66400.0|67100.0|  67100.0| 9549352|\n",
      "|2023-08-24|68300.0|68700.0|67900.0|68200.0|  68200.0|15044463|\n",
      "+----------+-------+-------+-------+-------+---------+--------+\n",
      "\n"
     ]
    }
   ],
   "source": [
    "data = data.filter(data.Date>'2023-08-01')\n",
    "data.show()"
   ]
  },
  {
   "cell_type": "code",
   "execution_count": 21,
   "id": "cc2e5efc-86c1-4493-94ea-5a980f38840d",
   "metadata": {},
   "outputs": [
    {
     "ename": "SyntaxError",
     "evalue": "unexpected EOF while parsing (<ipython-input-21-5d791afe471e>, line 9)",
     "output_type": "error",
     "traceback": [
      "\u001b[1;36m  File \u001b[1;32m\"<ipython-input-21-5d791afe471e>\"\u001b[1;36m, line \u001b[1;32m9\u001b[0m\n\u001b[1;33m    \u001b[0m\n\u001b[1;37m    ^\u001b[0m\n\u001b[1;31mSyntaxError\u001b[0m\u001b[1;31m:\u001b[0m unexpected EOF while parsing\n"
     ]
    }
   ],
   "source": [
    "\n",
    "expect_data = data.withColumn(\n",
    "                \"Expect\",\n",
    "                (f.col(\"Close\")) \\\n",
    "                .select(\"Date\",\"Close\",\"Expect\")\n",
    "    \n",
    "# expect_data.show()\n",
    "    \n",
    "# for x in 30:\n",
    "    "
   ]
  },
  {
   "cell_type": "code",
   "execution_count": null,
   "id": "050b725a-9f84-4957-baed-da3505bc34fe",
   "metadata": {},
   "outputs": [],
   "source": []
  }
 ],
 "metadata": {
  "kernelspec": {
   "display_name": "Python 3",
   "language": "python",
   "name": "python3"
  },
  "language_info": {
   "codemirror_mode": {
    "name": "ipython",
    "version": 3
   },
   "file_extension": ".py",
   "mimetype": "text/x-python",
   "name": "python",
   "nbconvert_exporter": "python",
   "pygments_lexer": "ipython3",
   "version": "3.8.8"
  }
 },
 "nbformat": 4,
 "nbformat_minor": 5
}
