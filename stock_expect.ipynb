{
 "cells": [
  {
   "cell_type": "code",
   "execution_count": 1,
   "id": "6996706c-7639-4dc7-993b-512c67297935",
   "metadata": {},
   "outputs": [
    {
     "name": "stdout",
     "output_type": "stream",
     "text": [
      "[*********************100%%**********************]  1 of 1 completed\n"
     ]
    }
   ],
   "source": [
    "# 오늘기준으로 1년치 주가 csv 파일로 로컬에 저장\n",
    "\n",
    "import yfinance as yf\n",
    "from datetime import datetime, timedelta\n",
    "datetime.now().date()\n",
    "df = yf.download('005930.KS',datetime.now().date()-timedelta(365),datetime.now().date())\n",
    "df.to_csv('samsung.csv')"
   ]
  },
  {
   "cell_type": "code",
   "execution_count": 15,
   "id": "8d406902-a42b-4c6e-9724-0a3b02142279",
   "metadata": {},
   "outputs": [],
   "source": [
    "import findspark\n",
    "findspark.init()"
   ]
  },
  {
   "cell_type": "code",
   "execution_count": 24,
   "id": "86ee47e7-c4b2-4d36-92af-cc65402023fd",
   "metadata": {},
   "outputs": [],
   "source": [
    "from pyspark.sql import (\n",
    "    functions as f,\n",
    "    Row,\n",
    "    SparkSession,\n",
    "    types as t\n",
    ")\n",
    "\n",
    "from pyspark.sql.functions import col, asc, desc"
   ]
  },
  {
   "cell_type": "code",
   "execution_count": 3,
   "id": "036c2b28-893f-4a42-b023-9450111f0588",
   "metadata": {},
   "outputs": [],
   "source": [
    "\n",
    "# Create SparkSession \n",
    "spark = SparkSession.builder \\\n",
    "      .master(\"local[1]\") \\\n",
    "      .appName(\"SparkByExamples.com\") \\\n",
    "      .getOrCreate() "
   ]
  },
  {
   "cell_type": "code",
   "execution_count": 27,
   "id": "5a124f12-0694-4e36-84bf-391ff81680fe",
   "metadata": {},
   "outputs": [],
   "source": [
    "csv_file_path = \"samsung.csv\"\n",
    "df = spark.read.option(\"header\",\"true\") \\\n",
    "    .option(\"inferSchema\",\"true\") \\\n",
    "    .csv(csv_file_path)"
   ]
  },
  {
   "cell_type": "code",
   "execution_count": 68,
   "id": "d42a4155-15bd-4227-b0c2-c3f5687a2daa",
   "metadata": {},
   "outputs": [
    {
     "data": {
      "text/plain": [
       "248"
      ]
     },
     "execution_count": 68,
     "metadata": {},
     "output_type": "execute_result"
    }
   ],
   "source": [
    "# data = df.filter(df.Date>='2023-01-01')\n",
    "df.count()"
   ]
  },
  {
   "cell_type": "code",
   "execution_count": 150,
   "id": "050b725a-9f84-4957-baed-da3505bc34fe",
   "metadata": {},
   "outputs": [
    {
     "name": "stdout",
     "output_type": "stream",
     "text": [
      "+----------+-------+-------+\n",
      "|      Date|  Close| expect|\n",
      "+----------+-------+-------+\n",
      "|2023-01-02|55500.0|55500.0|\n",
      "|2023-01-03|55400.0|55400.0|\n",
      "|2023-01-04|57800.0|57800.0|\n",
      "|2023-01-05|58200.0|58200.0|\n",
      "|2023-01-06|59000.0|59000.0|\n",
      "|2023-01-09|60700.0|60700.0|\n",
      "|2023-01-10|60400.0|60400.0|\n",
      "|2023-01-11|60500.0|60500.0|\n",
      "|2023-01-12|60500.0|60500.0|\n",
      "|2023-01-13|60800.0|60800.0|\n",
      "|2023-01-16|61100.0|61100.0|\n",
      "|2023-01-17|61000.0|61000.0|\n",
      "|2023-01-18|60400.0|60400.0|\n",
      "|2023-01-19|61500.0|61500.0|\n",
      "|2023-01-20|61800.0|61800.0|\n",
      "|2023-01-25|63300.0|63300.0|\n",
      "|2023-01-26|63800.0|63800.0|\n",
      "|2023-01-27|64600.0|64600.0|\n",
      "|2023-01-30|63300.0|63300.0|\n",
      "|2023-01-31|61400.0|61400.0|\n",
      "+----------+-------+-------+\n",
      "only showing top 20 rows\n",
      "\n"
     ]
    }
   ],
   "source": [
    "# ROW 추가\n",
    "columns = [\"Date\", \"Close\", \"expect\"]\n",
    "\n",
    "new_row = spark.createDataFrame([('2023-08-25', 68200.0, 68200.0)], columns)\n",
    "expect_data = expect_data.union(new_row)\n",
    "expect_data.show()"
   ]
  },
  {
   "cell_type": "code",
   "execution_count": 117,
   "id": "50c17d43-a19b-4c7f-8307-a104aad1a09f",
   "metadata": {},
   "outputs": [
    {
     "name": "stdout",
     "output_type": "stream",
     "text": [
      "+----------+-------+-------+\n",
      "|      Date|  Close| expect|\n",
      "+----------+-------+-------+\n",
      "|2022-08-26|60000.0|60000.0|\n",
      "|2022-08-29|58600.0|58600.0|\n",
      "|2022-08-30|58800.0|58800.0|\n",
      "|2022-08-31|59700.0|59700.0|\n",
      "|2022-09-01|58400.0|58400.0|\n",
      "|2022-09-02|57500.0|57500.0|\n",
      "|2022-09-05|57100.0|57100.0|\n",
      "|2022-09-06|57100.0|57100.0|\n",
      "|2022-09-07|56000.0|56000.0|\n",
      "|2022-09-08|55600.0|55600.0|\n",
      "|2022-09-13|58100.0|58100.0|\n",
      "|2022-09-14|56800.0|56800.0|\n",
      "|2022-09-15|56000.0|56000.0|\n",
      "|2022-09-16|56200.0|56200.0|\n",
      "|2022-09-19|56400.0|56400.0|\n",
      "|2022-09-20|55800.0|55800.0|\n",
      "|2022-09-21|55300.0|55300.0|\n",
      "|2022-09-22|54400.0|54400.0|\n",
      "|2022-09-23|54500.0|54500.0|\n",
      "|2022-09-26|53900.0|53900.0|\n",
      "+----------+-------+-------+\n",
      "only showing top 20 rows\n",
      "\n"
     ]
    }
   ],
   "source": [
    "\n",
    "recent_data = df.withColumn(\"expect\",f.col(\"Close\")).select(\"Date\",\"Close\",\"expect\")\n",
    "recent_data.show()"
   ]
  },
  {
   "cell_type": "code",
   "execution_count": 126,
   "id": "0193b808-1a83-43ee-878c-6c918bf9a60e",
   "metadata": {},
   "outputs": [
    {
     "name": "stdout",
     "output_type": "stream",
     "text": [
      "67100.0\n"
     ]
    }
   ],
   "source": [
    "# 최종 종가\n",
    "last_close = recent_data.tail(1)[0][1]\n",
    "print(last_close)"
   ]
  },
  {
   "cell_type": "code",
   "execution_count": 7,
   "id": "c57d5697-3d33-47da-aca6-5ba388f37041",
   "metadata": {},
   "outputs": [
    {
     "name": "stdout",
     "output_type": "stream",
     "text": [
      "236\n",
      "+-------------------+\n",
      "|date_add(Date, 236)|\n",
      "+-------------------+\n",
      "|         2023-08-26|\n",
      "|         2023-08-27|\n",
      "|         2023-08-28|\n",
      "|         2023-08-29|\n",
      "|         2023-08-30|\n",
      "|         2023-09-02|\n",
      "|         2023-09-03|\n",
      "|         2023-09-04|\n",
      "|         2023-09-05|\n",
      "|         2023-09-06|\n",
      "|         2023-09-09|\n",
      "|         2023-09-10|\n",
      "|         2023-09-11|\n",
      "|         2023-09-12|\n",
      "|         2023-09-13|\n",
      "|         2023-09-18|\n",
      "|         2023-09-19|\n",
      "|         2023-09-20|\n",
      "|         2023-09-23|\n",
      "|         2023-09-24|\n",
      "+-------------------+\n",
      "only showing top 20 rows\n",
      "\n"
     ]
    }
   ],
   "source": [
    "# # 마지막 날짜를 일수로 변환\n",
    "# from pyspark.sql.functions import date_add, date_sub, col\n",
    "\n",
    "# today = expect_data.select(f.dayofyear('Date')).tail(1)[0][0]\n",
    "# print(today)\n",
    "\n",
    "# expect_data.select(date_add(col(\"Date\"),today)).show()"
   ]
  },
  {
   "cell_type": "code",
   "execution_count": 118,
   "id": "52f8c8e8-aa09-44b8-ac9c-f8d91953872d",
   "metadata": {},
   "outputs": [
    {
     "name": "stdout",
     "output_type": "stream",
     "text": [
      "현재 날짜 :  2023-08-28\n",
      "           Date\n",
      "0    2023-08-27\n",
      "1    2023-08-28\n",
      "2    2023-08-29\n",
      "3    2023-08-30\n",
      "4    2023-08-31\n",
      "..          ...\n",
      "243  2024-04-26\n",
      "244  2024-04-27\n",
      "245  2024-04-28\n",
      "246  2024-04-29\n",
      "247  2024-04-30\n",
      "\n",
      "[248 rows x 1 columns]\n"
     ]
    }
   ],
   "source": [
    "# 1년 예측이지만 휴일 거래일 제외하면 248일\n",
    "import pandas as pd\n",
    "from pyspark.sql.functions import current_date, current_timestamp\n",
    "from datetime import datetime, timedelta\n",
    "\n",
    "now = datetime.now()\n",
    "recent_day_count = recent_data.count()\n",
    "print(\"현재 날짜 : \", datetime.now().date()+timedelta(days=1))\n",
    "\n",
    "datelist = []\n",
    "\n",
    "for x in range(recent_day_count) :\n",
    "    datelist.append(datetime.now().date()+timedelta(days=x))\n",
    "df_front_1year = pd.DataFrame({'Date': datelist})\n",
    "ex_df_front_1year = pd.DataFrame({'Date': datelist})\n",
    "print(df_front_1year)"
   ]
  },
  {
   "cell_type": "code",
   "execution_count": 119,
   "id": "faac62bd-ff06-4dea-92e8-38af067d21fe",
   "metadata": {},
   "outputs": [
    {
     "name": "stdout",
     "output_type": "stream",
     "text": [
      "63198.790322580644\n",
      "73400.0\n",
      "52600.0\n",
      "0     -3198.790323\n",
      "1     -4598.790323\n",
      "2     -4398.790323\n",
      "3     -3498.790323\n",
      "4     -4798.790323\n",
      "          ...     \n",
      "243    3401.209677\n",
      "244    3401.209677\n",
      "245    3901.209677\n",
      "246    5001.209677\n",
      "247    3901.209677\n",
      "Name: Close, Length: 248, dtype: float64\n"
     ]
    }
   ],
   "source": [
    "# 앞으로 1년(248 거래일) 동안의 주가 예측 \n",
    "import pandas as pd\n",
    "# 1년간 주가의 평균\n",
    "pd_recent_data = recent_data.toPandas()\n",
    "close_avg = pd_recent_data['Close'].mean()\n",
    "close_max = pd_recent_data['Close'].max()\n",
    "close_min = pd_recent_data['Close'].min()\n",
    "print(close_avg)\n",
    "print(close_max)\n",
    "print(close_min)\n",
    "\n",
    "difference = pd_recent_data['Close'].apply(lambda x: x-close_avg)\n",
    "\n",
    "print(difference)"
   ]
  },
  {
   "cell_type": "code",
   "execution_count": 120,
   "id": "9851e77b-a71a-496b-ba5c-8eca574b2546",
   "metadata": {},
   "outputs": [
    {
     "name": "stdout",
     "output_type": "stream",
     "text": [
      "           Date   difference\n",
      "0    2023-08-27 -3198.790283\n",
      "1    2023-08-28 -4598.790527\n",
      "2    2023-08-29 -4398.790527\n",
      "3    2023-08-30 -3498.790283\n",
      "4    2023-08-31 -4798.790527\n",
      "..          ...          ...\n",
      "243  2024-04-26  3401.209717\n",
      "244  2024-04-27  3401.209717\n",
      "245  2024-04-28  3901.209717\n",
      "246  2024-04-29  5001.209473\n",
      "247  2024-04-30  3901.209717\n",
      "\n",
      "[248 rows x 2 columns]\n"
     ]
    }
   ],
   "source": [
    "from pyspark.sql.types import *\n",
    "df_difference = spark.createDataFrame(difference,'float')\n",
    "# schema_income.collect()\n",
    "pd_difference = df_difference.toPandas()\n",
    "pd_difference = df_front_1year.insert(1,'difference',pd_difference)\n",
    "pd_difference = df_front_1year\n",
    "print(pd_difference)"
   ]
  },
  {
   "cell_type": "code",
   "execution_count": 121,
   "id": "7cf94867-3c31-4082-9579-3940fd783064",
   "metadata": {},
   "outputs": [
    {
     "name": "stdout",
     "output_type": "stream",
     "text": [
      "           Date   difference\n",
      "0    2023-08-27  3901.209717\n",
      "1    2023-08-28  5001.209473\n",
      "2    2023-08-29  3901.209717\n",
      "3    2023-08-30  3401.209717\n",
      "4    2023-08-31  3401.209717\n",
      "..          ...          ...\n",
      "243  2024-04-26 -4798.790527\n",
      "244  2024-04-27 -3498.790283\n",
      "245  2024-04-28 -4398.790527\n",
      "246  2024-04-29 -4598.790527\n",
      "247  2024-04-30 -3198.790283\n",
      "\n",
      "[248 rows x 2 columns]\n"
     ]
    }
   ],
   "source": [
    "# pd_difference 날짜 기준으로 내림차순 정렬\n",
    "df_sorted_by_values = pd_difference.sort_values(by='Date' ,ascending=False)\n",
    "# print(df_sorted_by_values['difference'])\n",
    "df_sorted = spark.createDataFrame(df_sorted_by_values['difference'],'float')\n",
    "pd_sorted = df_sorted.toPandas()\n",
    "ex_df_front_1year.insert(1,'difference',pd_sorted)\n",
    "\n",
    "print(ex_df_front_1year)\n"
   ]
  },
  {
   "cell_type": "code",
   "execution_count": 127,
   "id": "827f4db1-dd31-4fcf-a391-6530c336d5a7",
   "metadata": {},
   "outputs": [],
   "source": [
    "#예측 가격 = 평균가-pd_difference['difference']\n",
    "ex_df_front_1year.insert(2,'expect',last_close-ex_df_front_1year['difference'])\n"
   ]
  },
  {
   "cell_type": "code",
   "execution_count": 128,
   "id": "e12adcfd-5b92-46b0-b819-7d4969b430fd",
   "metadata": {},
   "outputs": [
    {
     "name": "stdout",
     "output_type": "stream",
     "text": [
      "           Date   difference        expect\n",
      "0    2023-08-27  3901.209717  63198.789062\n",
      "1    2023-08-28  5001.209473  62098.789062\n",
      "2    2023-08-29  3901.209717  63198.789062\n",
      "3    2023-08-30  3401.209717  63698.789062\n",
      "4    2023-08-31  3401.209717  63698.789062\n",
      "..          ...          ...           ...\n",
      "243  2024-04-26 -4798.790527  71898.789062\n",
      "244  2024-04-27 -3498.790283  70598.789062\n",
      "245  2024-04-28 -4398.790527  71498.789062\n",
      "246  2024-04-29 -4598.790527  71698.789062\n",
      "247  2024-04-30 -3198.790283  70298.789062\n",
      "\n",
      "[248 rows x 3 columns]\n"
     ]
    }
   ],
   "source": [
    "print(ex_df_front_1year)"
   ]
  },
  {
   "cell_type": "code",
   "execution_count": 129,
   "id": "54d40858-2210-4219-bf3f-83c6c5d9a36c",
   "metadata": {},
   "outputs": [],
   "source": [
    "# 예측값 csv파일로 저장\n",
    "ex_df_front_1year.to_csv(\"expect.csv\")"
   ]
  }
 ],
 "metadata": {
  "kernelspec": {
   "display_name": "Python 3",
   "language": "python",
   "name": "python3"
  },
  "language_info": {
   "codemirror_mode": {
    "name": "ipython",
    "version": 3
   },
   "file_extension": ".py",
   "mimetype": "text/x-python",
   "name": "python",
   "nbconvert_exporter": "python",
   "pygments_lexer": "ipython3",
   "version": "3.8.8"
  }
 },
 "nbformat": 4,
 "nbformat_minor": 5
}
